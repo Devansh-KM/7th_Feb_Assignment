{
 "cells": [
  {
   "cell_type": "markdown",
   "id": "28e899e0",
   "metadata": {},
   "source": [
    "#### Q1. You are writing code for a company. The requirement of the company is that you create a python function that will check whether the password entered by the user is correct or not. \n",
    "#### The function should take the password as input and return the string “Valid Password” if the entered password follows the\n",
    "#### below-given password guidelines else it should return “Invalid Password”.\n",
    "\n",
    "\n",
    "#### 1. The Password should contain at least two uppercase letters and at least two lowercase letters.\n",
    "#### 2. The Password should contain at least a number and three special characters.\n",
    "#### 3. The length of the password should be 10 characters long."
   ]
  },
  {
   "cell_type": "code",
   "execution_count": 1,
   "id": "f9965380",
   "metadata": {},
   "outputs": [
    {
     "name": "stdout",
     "output_type": "stream",
     "text": [
      "deVaNsh12%$#\n",
      " This password is Valid\n"
     ]
    }
   ],
   "source": [
    "def check_password(password):\n",
    "    count_lower = 0\n",
    "    count_upper = 0\n",
    "    count_digit = 0\n",
    "    count_special = 0\n",
    "    # stateting length of password\n",
    "    if len(password) < 10:\n",
    "        return \"Invalid\"\n",
    "    #Checking counts of charcters\n",
    "    for char in password:\n",
    "        if char.islower():\n",
    "            count_lower += 1\n",
    "        elif char.isupper():\n",
    "            count_upper += 1\n",
    "        elif char.isdigit():\n",
    "            count_digit += 1\n",
    "        else:\n",
    "            count_special += 1\n",
    "    # checking length of password\n",
    "    if count_lower >=2 and count_upper >=2 and count_digit >= 2 and count_special >= 2 :\n",
    "        return \"Valid\"\n",
    "    else:\n",
    "        return \"Invalid passsword\"\n",
    "# Calling the function\n",
    "password = input()\n",
    "validity = check_password(password)\n",
    "print(f\" This password is {validity}\")"
   ]
  },
  {
   "cell_type": "markdown",
   "id": "e2f44c3b",
   "metadata": {},
   "source": [
    "#### Q2. Solve the below-given questions using at least one of the following:\n",
    "1. Lambda function\n",
    "2. Filter function\n",
    "3. Map Function\n",
    "4. List Comprehension"
   ]
  },
  {
   "cell_type": "markdown",
   "id": "c580da1b",
   "metadata": {},
   "source": [
    "#### Q2.1 Check if the string starts with a particular letter"
   ]
  },
  {
   "cell_type": "code",
   "execution_count": 45,
   "id": "4685a1f8",
   "metadata": {},
   "outputs": [
    {
     "name": "stdout",
     "output_type": "stream",
     "text": [
      "True\n"
     ]
    }
   ],
   "source": [
    "# using lambda function\n",
    "check_String = lambda str, letter: str[0] == letter\n",
    "\n",
    "# calling the function\n",
    "result = check_String(\"Hello\", \"H\")\n",
    "print(result)"
   ]
  },
  {
   "cell_type": "markdown",
   "id": "06b6a884",
   "metadata": {},
   "source": [
    "#### Q2.2 Check if the string is numeric"
   ]
  },
  {
   "cell_type": "code",
   "execution_count": 4,
   "id": "8d6dbf32",
   "metadata": {},
   "outputs": [],
   "source": [
    "num_string = lambda string : True if string.isdigit() else False"
   ]
  },
  {
   "cell_type": "code",
   "execution_count": 5,
   "id": "cf762390",
   "metadata": {},
   "outputs": [
    {
     "data": {
      "text/plain": [
       "True"
      ]
     },
     "execution_count": 5,
     "metadata": {},
     "output_type": "execute_result"
    }
   ],
   "source": [
    "num_string(\"1234\")"
   ]
  },
  {
   "cell_type": "code",
   "execution_count": 6,
   "id": "0fda4cb4",
   "metadata": {},
   "outputs": [
    {
     "data": {
      "text/plain": [
       "False"
      ]
     },
     "execution_count": 6,
     "metadata": {},
     "output_type": "execute_result"
    }
   ],
   "source": [
    "num_string(\"Devans\")"
   ]
  },
  {
   "cell_type": "markdown",
   "id": "2815d8ad",
   "metadata": {},
   "source": [
    "#### Q2.3 Sort a list of tuples having fruit names and their quantity. [(\"mango\",99),(\"orange\",80), (\"grapes\", 1000)-"
   ]
  },
  {
   "cell_type": "code",
   "execution_count": 13,
   "id": "4b5fb94e",
   "metadata": {},
   "outputs": [],
   "source": [
    "my_list = [(\"mango\",99),(\"orange\",80), (\"grapes\", 1000)]"
   ]
  },
  {
   "cell_type": "code",
   "execution_count": 16,
   "id": "78394f99",
   "metadata": {},
   "outputs": [
    {
     "name": "stdout",
     "output_type": "stream",
     "text": [
      "[('orange', 80), ('mango', 99), ('grapes', 1000)]\n"
     ]
    }
   ],
   "source": [
    "sorted_list = sorted(my_list, key = lambda x : x[1])\n",
    "print(sorted_list)"
   ]
  },
  {
   "cell_type": "markdown",
   "id": "454094ef",
   "metadata": {},
   "source": [
    "#### Q2.4 B Find the squares of numbers from 1 to 10"
   ]
  },
  {
   "cell_type": "code",
   "execution_count": 17,
   "id": "4b41a669",
   "metadata": {},
   "outputs": [],
   "source": [
    "new_list = list(range(1,11))"
   ]
  },
  {
   "cell_type": "code",
   "execution_count": 18,
   "id": "6c47d604",
   "metadata": {},
   "outputs": [
    {
     "name": "stdout",
     "output_type": "stream",
     "text": [
      "[1, 4, 9, 16, 25, 36, 49, 64, 81, 100]\n"
     ]
    }
   ],
   "source": [
    "sq_list = [x**2 for x in new_list]\n",
    "print(sq_list)"
   ]
  },
  {
   "cell_type": "markdown",
   "id": "7bc1da79",
   "metadata": {},
   "source": [
    "#### Q2.5 Find the cube root of numbers from 1 to 10"
   ]
  },
  {
   "cell_type": "code",
   "execution_count": 30,
   "id": "e592abc4",
   "metadata": {},
   "outputs": [
    {
     "name": "stdout",
     "output_type": "stream",
     "text": [
      "[0.3333333333333333, 0.6666666666666666, 1.0, 1.3333333333333333, 1.6666666666666667, 2.0, 2.3333333333333335, 2.6666666666666665, 3.0, 3.3333333333333335]\n"
     ]
    }
   ],
   "source": [
    "cube_root_list = list(map(lambda x : x**1/3 , new_list))\n",
    "print(cube_root_list)"
   ]
  },
  {
   "cell_type": "code",
   "execution_count": 29,
   "id": "c79af4d5",
   "metadata": {},
   "outputs": [
    {
     "name": "stdout",
     "output_type": "stream",
     "text": [
      "[0.3333333333333333, 0.6666666666666666, 1.0, 1.3333333333333333, 1.6666666666666667, 2.0, 2.3333333333333335, 2.6666666666666665, 3.0, 3.3333333333333335]\n"
     ]
    }
   ],
   "source": [
    "#Alternate method using list comprehension\n",
    "cube_root = [x**1/3 for x in new_list]\n",
    "print(cube_root)"
   ]
  },
  {
   "cell_type": "markdown",
   "id": "4a55b611",
   "metadata": {},
   "source": [
    "#### Q2.6 Check if a given number is even"
   ]
  },
  {
   "cell_type": "code",
   "execution_count": 31,
   "id": "03f3dcf0",
   "metadata": {},
   "outputs": [
    {
     "name": "stdout",
     "output_type": "stream",
     "text": [
      "[2, 4, 6, 8, 10]\n"
     ]
    }
   ],
   "source": [
    "even_list = [x for x in new_list if x%2==0]\n",
    "print(even_list)"
   ]
  },
  {
   "cell_type": "code",
   "execution_count": 36,
   "id": "88047494",
   "metadata": {},
   "outputs": [
    {
     "name": "stdout",
     "output_type": "stream",
     "text": [
      "[2, 4, 6, 8, 10]\n"
     ]
    }
   ],
   "source": [
    "#Alternate using filter function\n",
    "ev_lst = list(filter(lambda x : x%2 == 0 , new_list))\n",
    "print(ev_lst)"
   ]
  },
  {
   "cell_type": "markdown",
   "id": "f47b8e3d",
   "metadata": {},
   "source": [
    "#### Q2.7 Filter odd numbers from the given list.\n",
    "[1,2,3,4,5,6,7,8,9,10]"
   ]
  },
  {
   "cell_type": "code",
   "execution_count": 37,
   "id": "31a872f8",
   "metadata": {},
   "outputs": [
    {
     "data": {
      "text/plain": [
       "[1, 2, 3, 4, 5, 6, 7, 8, 9, 10]"
      ]
     },
     "execution_count": 37,
     "metadata": {},
     "output_type": "execute_result"
    }
   ],
   "source": [
    "new_list"
   ]
  },
  {
   "cell_type": "code",
   "execution_count": 39,
   "id": "ae471746",
   "metadata": {},
   "outputs": [
    {
     "name": "stdout",
     "output_type": "stream",
     "text": [
      "[1, 3, 5, 7, 9]\n"
     ]
    }
   ],
   "source": [
    "odd_lst = list(filter(lambda x : x%2 != 0 , new_list))\n",
    "print(odd_lst)"
   ]
  },
  {
   "cell_type": "markdown",
   "id": "32a5f7cc",
   "metadata": {},
   "source": [
    "#### Q2.8 Sort a list of integers into positive and negative integers lists. [1,2,3,4,5,6,-1,-2,-3,-4,-5,0]"
   ]
  },
  {
   "cell_type": "code",
   "execution_count": 40,
   "id": "898d108e",
   "metadata": {},
   "outputs": [],
   "source": [
    "l3 = [1,2,3,4,5,6,-1,-2,-3,-4,-5,0]"
   ]
  },
  {
   "cell_type": "code",
   "execution_count": 41,
   "id": "2a1252eb",
   "metadata": {},
   "outputs": [],
   "source": [
    "pos_lst = list(filter(lambda x : x >0 , l3))"
   ]
  },
  {
   "cell_type": "code",
   "execution_count": 42,
   "id": "8975b1d0",
   "metadata": {},
   "outputs": [
    {
     "data": {
      "text/plain": [
       "[1, 2, 3, 4, 5, 6]"
      ]
     },
     "execution_count": 42,
     "metadata": {},
     "output_type": "execute_result"
    }
   ],
   "source": [
    "pos_lst"
   ]
  },
  {
   "cell_type": "code",
   "execution_count": 43,
   "id": "51afd27a",
   "metadata": {},
   "outputs": [],
   "source": [
    "neg_lst = [x for x in l3 if x<0]"
   ]
  },
  {
   "cell_type": "code",
   "execution_count": 44,
   "id": "9c89b998",
   "metadata": {},
   "outputs": [
    {
     "data": {
      "text/plain": [
       "[-1, -2, -3, -4, -5]"
      ]
     },
     "execution_count": 44,
     "metadata": {},
     "output_type": "execute_result"
    }
   ],
   "source": [
    "neg_lst"
   ]
  },
  {
   "cell_type": "code",
   "execution_count": null,
   "id": "807e8ec8",
   "metadata": {},
   "outputs": [],
   "source": []
  }
 ],
 "metadata": {
  "kernelspec": {
   "display_name": "Python 3 (ipykernel)",
   "language": "python",
   "name": "python3"
  },
  "language_info": {
   "codemirror_mode": {
    "name": "ipython",
    "version": 3
   },
   "file_extension": ".py",
   "mimetype": "text/x-python",
   "name": "python",
   "nbconvert_exporter": "python",
   "pygments_lexer": "ipython3",
   "version": "3.9.13"
  }
 },
 "nbformat": 4,
 "nbformat_minor": 5
}
